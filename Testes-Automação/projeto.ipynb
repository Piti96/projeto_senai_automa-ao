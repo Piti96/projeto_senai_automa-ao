{
 "cells": [
  {
   "cell_type": "markdown",
   "metadata": {},
   "source": [
    "importando as bibliotecas"
   ]
  },
  {
   "cell_type": "code",
   "execution_count": 24,
   "metadata": {},
   "outputs": [],
   "source": [
    "from selenium import webdriver\n",
    "from selenium.webdriver.common.by import By\n",
    "\n",
    "import time\n"
   ]
  },
  {
   "cell_type": "markdown",
   "metadata": {},
   "source": [
    "Inicializando o navegador"
   ]
  },
  {
   "cell_type": "code",
   "execution_count": 25,
   "metadata": {},
   "outputs": [],
   "source": [
    "driver = webdriver.Edge()"
   ]
  },
  {
   "cell_type": "code",
   "execution_count": 26,
   "metadata": {},
   "outputs": [],
   "source": [
    "#Abrindo o link do site\n",
    "\n",
    "driver.get('https://www.casasbahia.com.br/')\n",
    "\n",
    "#Utilizando tempo\n",
    "time.sleep(2)"
   ]
  },
  {
   "cell_type": "code",
   "execution_count": 27,
   "metadata": {},
   "outputs": [],
   "source": [
    "#Interagindo com os elementos\n",
    "\n",
    "barra_pesquisa = driver.find_element(By.ID,\"search-form-input\")\n",
    "\n",
    "#clicando e preenchendo elemento\n",
    "\n",
    "barra_pesquisa.send_keys(\"Geladeira\")\n",
    "barra_pesquisa.click()\n",
    "\n",
    "#Clicando na lupa de pesquisa\n",
    "button_pesquisa = driver.find_element(By.XPATH, \"/html/body/div[1]/div/div[2]/header/div[2]/div[2]/form/button\")\n",
    "button_pesquisa.click()"
   ]
  }
 ],
 "metadata": {
  "kernelspec": {
   "display_name": "Python 3",
   "language": "python",
   "name": "python3"
  },
  "language_info": {
   "codemirror_mode": {
    "name": "ipython",
    "version": 3
   },
   "file_extension": ".py",
   "mimetype": "text/x-python",
   "name": "python",
   "nbconvert_exporter": "python",
   "pygments_lexer": "ipython3",
   "version": "3.11.4"
  },
  "orig_nbformat": 4
 },
 "nbformat": 4,
 "nbformat_minor": 2
}
